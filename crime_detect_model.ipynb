{
 "cells": [
  {
   "cell_type": "code",
   "execution_count": 30,
   "metadata": {
    "executionInfo": {
     "elapsed": 265,
     "status": "ok",
     "timestamp": 1634456600727,
     "user": {
      "displayName": "이재선",
      "photoUrl": "https://lh3.googleusercontent.com/a/default-user=s64",
      "userId": "14141060562041994757"
     },
     "user_tz": -540
    },
    "id": "Ak7JdFvO_bX-"
   },
   "outputs": [],
   "source": [
    "import tensorflow as tf\n",
    "from tensorflow.keras.applications.vgg16 import VGG16\n",
    "from tensorflow.keras.preprocessing.image import ImageDataGenerator\n",
    "from tensorflow.keras import layers\n",
    "from tensorflow.keras.layers import Dense, Dropout, Input\n",
    "from tensorflow.keras.models import Model\n",
    "\n",
    "from tensorflow.keras.preprocessing.image import load_img, img_to_array\n",
    "from tensorflow.keras import applications\n",
    "\n",
    "import os\n",
    "import numpy as np"
   ]
  },
  {
   "cell_type": "code",
   "execution_count": 15,
   "metadata": {
    "executionInfo": {
     "elapsed": 7,
     "status": "ok",
     "timestamp": 1634456601126,
     "user": {
      "displayName": "이재선",
      "photoUrl": "https://lh3.googleusercontent.com/a/default-user=s64",
      "userId": "14141060562041994757"
     },
     "user_tz": -540
    },
    "id": "7EZAb4yMMLbg"
   },
   "outputs": [],
   "source": [
    "np.random.seed(0)\n",
    "tf.random.set_seed(0)"
   ]
  },
  {
   "cell_type": "code",
   "execution_count": 16,
   "metadata": {},
   "outputs": [
    {
     "data": {
      "text/plain": [
       "'/home/ec2-user'"
      ]
     },
     "execution_count": 16,
     "metadata": {},
     "output_type": "execute_result"
    }
   ],
   "source": [
    "pwd"
   ]
  },
  {
   "cell_type": "code",
   "execution_count": null,
   "metadata": {},
   "outputs": [],
   "source": []
  },
  {
   "cell_type": "code",
   "execution_count": 28,
   "metadata": {},
   "outputs": [],
   "source": [
    "# 변수 정의\n",
    "train_dir = '/home/ec2-user/images/train'\n",
    "\n",
    "input_size = 224\n",
    "batch_size = 16\n",
    "epochs = 20\n"
   ]
  },
  {
   "cell_type": "code",
   "execution_count": 19,
   "metadata": {
    "executionInfo": {
     "elapsed": 308,
     "status": "ok",
     "timestamp": 1634456602433,
     "user": {
      "displayName": "이재선",
      "photoUrl": "https://lh3.googleusercontent.com/a/default-user=s64",
      "userId": "14141060562041994757"
     },
     "user_tz": -540
    },
    "id": "hgHcEFv0_sbq"
   },
   "outputs": [],
   "source": [
    "# 모델 불러오기\n",
    "vgg_model = VGG16(input_shape=(input_size, input_size,3), weights='imagenet', include_top=False)"
   ]
  },
  {
   "cell_type": "code",
   "execution_count": 20,
   "metadata": {
    "colab": {
     "base_uri": "https://localhost:8080/"
    },
    "executionInfo": {
     "elapsed": 19,
     "status": "ok",
     "timestamp": 1634456602435,
     "user": {
      "displayName": "이재선",
      "photoUrl": "https://lh3.googleusercontent.com/a/default-user=s64",
      "userId": "14141060562041994757"
     },
     "user_tz": -540
    },
    "id": "vjHOoBca_vO3",
    "outputId": "b8d56155-1ae4-41f3-e536-7f63ca5b2dbf"
   },
   "outputs": [
    {
     "name": "stdout",
     "output_type": "stream",
     "text": [
      "Model: \"vgg16\"\n",
      "_________________________________________________________________\n",
      "Layer (type)                 Output Shape              Param #   \n",
      "=================================================================\n",
      "input_2 (InputLayer)         [(None, 224, 224, 3)]     0         \n",
      "_________________________________________________________________\n",
      "block1_conv1 (Conv2D)        (None, 224, 224, 64)      1792      \n",
      "_________________________________________________________________\n",
      "block1_conv2 (Conv2D)        (None, 224, 224, 64)      36928     \n",
      "_________________________________________________________________\n",
      "block1_pool (MaxPooling2D)   (None, 112, 112, 64)      0         \n",
      "_________________________________________________________________\n",
      "block2_conv1 (Conv2D)        (None, 112, 112, 128)     73856     \n",
      "_________________________________________________________________\n",
      "block2_conv2 (Conv2D)        (None, 112, 112, 128)     147584    \n",
      "_________________________________________________________________\n",
      "block2_pool (MaxPooling2D)   (None, 56, 56, 128)       0         \n",
      "_________________________________________________________________\n",
      "block3_conv1 (Conv2D)        (None, 56, 56, 256)       295168    \n",
      "_________________________________________________________________\n",
      "block3_conv2 (Conv2D)        (None, 56, 56, 256)       590080    \n",
      "_________________________________________________________________\n",
      "block3_conv3 (Conv2D)        (None, 56, 56, 256)       590080    \n",
      "_________________________________________________________________\n",
      "block3_pool (MaxPooling2D)   (None, 28, 28, 256)       0         \n",
      "_________________________________________________________________\n",
      "block4_conv1 (Conv2D)        (None, 28, 28, 512)       1180160   \n",
      "_________________________________________________________________\n",
      "block4_conv2 (Conv2D)        (None, 28, 28, 512)       2359808   \n",
      "_________________________________________________________________\n",
      "block4_conv3 (Conv2D)        (None, 28, 28, 512)       2359808   \n",
      "_________________________________________________________________\n",
      "block4_pool (MaxPooling2D)   (None, 14, 14, 512)       0         \n",
      "_________________________________________________________________\n",
      "block5_conv1 (Conv2D)        (None, 14, 14, 512)       2359808   \n",
      "_________________________________________________________________\n",
      "block5_conv2 (Conv2D)        (None, 14, 14, 512)       2359808   \n",
      "_________________________________________________________________\n",
      "block5_conv3 (Conv2D)        (None, 14, 14, 512)       2359808   \n",
      "_________________________________________________________________\n",
      "block5_pool (MaxPooling2D)   (None, 7, 7, 512)         0         \n",
      "=================================================================\n",
      "Total params: 14,714,688\n",
      "Trainable params: 14,714,688\n",
      "Non-trainable params: 0\n",
      "_________________________________________________________________\n"
     ]
    }
   ],
   "source": [
    "vgg_model.summary()"
   ]
  },
  {
   "cell_type": "code",
   "execution_count": 21,
   "metadata": {
    "executionInfo": {
     "elapsed": 6,
     "status": "ok",
     "timestamp": 1634456603462,
     "user": {
      "displayName": "이재선",
      "photoUrl": "https://lh3.googleusercontent.com/a/default-user=s64",
      "userId": "14141060562041994757"
     },
     "user_tz": -540
    },
    "id": "Fv8VMM33_zyo"
   },
   "outputs": [],
   "source": [
    "vgg_model.trainable=True\n",
    "global_average_layer = tf.keras.layers.GlobalAveragePooling2D()\n",
    "\n",
    "model = tf.keras.Sequential([\n",
    "    vgg_model,\n",
    "    global_average_layer,\n",
    "    layers.Dense(19, activation='softmax'),\n",
    "\n",
    "])"
   ]
  },
  {
   "cell_type": "code",
   "execution_count": 22,
   "metadata": {
    "colab": {
     "base_uri": "https://localhost:8080/"
    },
    "executionInfo": {
     "elapsed": 12,
     "status": "ok",
     "timestamp": 1634456603850,
     "user": {
      "displayName": "이재선",
      "photoUrl": "https://lh3.googleusercontent.com/a/default-user=s64",
      "userId": "14141060562041994757"
     },
     "user_tz": -540
    },
    "id": "6N3l8Yga_2Up",
    "outputId": "39f88e2c-0c0c-4415-9672-5f7c824f3127"
   },
   "outputs": [
    {
     "name": "stdout",
     "output_type": "stream",
     "text": [
      "Model: \"sequential_1\"\n",
      "_________________________________________________________________\n",
      "Layer (type)                 Output Shape              Param #   \n",
      "=================================================================\n",
      "vgg16 (Functional)           (None, 7, 7, 512)         14714688  \n",
      "_________________________________________________________________\n",
      "global_average_pooling2d_1 ( (None, 512)               0         \n",
      "_________________________________________________________________\n",
      "dense_1 (Dense)              (None, 19)                9747      \n",
      "=================================================================\n",
      "Total params: 14,724,435\n",
      "Trainable params: 14,724,435\n",
      "Non-trainable params: 0\n",
      "_________________________________________________________________\n"
     ]
    }
   ],
   "source": [
    "model.summary()"
   ]
  },
  {
   "cell_type": "code",
   "execution_count": 23,
   "metadata": {
    "executionInfo": {
     "elapsed": 4,
     "status": "ok",
     "timestamp": 1634456604755,
     "user": {
      "displayName": "이재선",
      "photoUrl": "https://lh3.googleusercontent.com/a/default-user=s64",
      "userId": "14141060562041994757"
     },
     "user_tz": -540
    },
    "id": "x9QRPj2k_4Ek"
   },
   "outputs": [],
   "source": [
    "model.compile(loss='categorical_crossentropy',\n",
    "                     optimizer='adam',\n",
    "                     metrics=['accuracy'])"
   ]
  },
  {
   "cell_type": "code",
   "execution_count": 24,
   "metadata": {},
   "outputs": [
    {
     "data": {
      "text/plain": [
       "'/home/ec2-user'"
      ]
     },
     "execution_count": 24,
     "metadata": {},
     "output_type": "execute_result"
    }
   ],
   "source": [
    "pwd"
   ]
  },
  {
   "cell_type": "code",
   "execution_count": 25,
   "metadata": {
    "colab": {
     "base_uri": "https://localhost:8080/"
    },
    "executionInfo": {
     "elapsed": 19,
     "status": "ok",
     "timestamp": 1634456605795,
     "user": {
      "displayName": "이재선",
      "photoUrl": "https://lh3.googleusercontent.com/a/default-user=s64",
      "userId": "14141060562041994757"
     },
     "user_tz": -540
    },
    "id": "ZFNvRF7qDUNk",
    "outputId": "30d9ff61-e985-491d-98f8-267bbe5c9e25"
   },
   "outputs": [
    {
     "name": "stdout",
     "output_type": "stream",
     "text": [
      "Found 839 images belonging to 19 classes.\n",
      "Found 201 images belonging to 19 classes.\n"
     ]
    }
   ],
   "source": [
    "\n",
    "image_generator = ImageDataGenerator(validation_split=0.2, rescale=1./255)\n",
    "\n",
    "# 데이터 구조 생성\n",
    "train_data_gen = image_generator.flow_from_directory(batch_size=batch_size,\n",
    "                                                           directory=train_dir,\n",
    "                                                           subset='training',\n",
    "                                                           shuffle=True,\n",
    "                                                           target_size=(input_size, input_size),\n",
    "                                                           class_mode='categorical')\n",
    "\n",
    "valid_data_gen = image_generator.flow_from_directory(batch_size=batch_size,\n",
    "                                                         directory=train_dir,\n",
    "                                                         subset='validation',\n",
    "                                                         target_size=(input_size, input_size),\n",
    "                                                         class_mode='categorical')"
   ]
  },
  {
   "cell_type": "code",
   "execution_count": 27,
   "metadata": {
    "executionInfo": {
     "elapsed": 4,
     "status": "ok",
     "timestamp": 1634456607859,
     "user": {
      "displayName": "이재선",
      "photoUrl": "https://lh3.googleusercontent.com/a/default-user=s64",
      "userId": "14141060562041994757"
     },
     "user_tz": -540
    },
    "id": "h0D4ZGcw5K-Q"
   },
   "outputs": [],
   "source": [
    "# weights 경로 설정 및 callback 설정\n",
    "\n",
    "checkpoint_path = \"/home/ec2-user/weights/cp.ckpt\"\n",
    "checkpoint_dir = os.path.join(checkpoint_path)\n",
    "cp_callback=tf.keras.callbacks.ModelCheckpoint(filepath=checkpoint_path,\n",
    "                                               save_weights_only=True,\n",
    "                                               verbose=1)"
   ]
  },
  {
   "cell_type": "code",
   "execution_count": 29,
   "metadata": {
    "colab": {
     "base_uri": "https://localhost:8080/"
    },
    "executionInfo": {
     "elapsed": 44391,
     "status": "ok",
     "timestamp": 1634456653443,
     "user": {
      "displayName": "이재선",
      "photoUrl": "https://lh3.googleusercontent.com/a/default-user=s64",
      "userId": "14141060562041994757"
     },
     "user_tz": -540
    },
    "id": "uWz6eZe8C_o7",
    "outputId": "a6591f2f-bbe7-48fb-bc54-948e5de487cc"
   },
   "outputs": [
    {
     "name": "stdout",
     "output_type": "stream",
     "text": [
      "Epoch 1/20\n",
      "53/53 [==============================] - ETA: 0s - loss: 3.5336 - accuracy: 0.0620\n",
      "Epoch 00001: saving model to /home/ec2-user/weights/cp.ckpt\n",
      "53/53 [==============================] - 42s 797ms/step - loss: 3.5336 - accuracy: 0.0620 - val_loss: 2.9253 - val_accuracy: 0.0498\n",
      "Epoch 2/20\n",
      "53/53 [==============================] - ETA: 0s - loss: 2.9324 - accuracy: 0.0870\n",
      "Epoch 00002: saving model to /home/ec2-user/weights/cp.ckpt\n",
      "53/53 [==============================] - 27s 506ms/step - loss: 2.9324 - accuracy: 0.0870 - val_loss: 2.9286 - val_accuracy: 0.0995\n",
      "Epoch 3/20\n",
      "53/53 [==============================] - ETA: 0s - loss: 2.9232 - accuracy: 0.0954\n",
      "Epoch 00003: saving model to /home/ec2-user/weights/cp.ckpt\n",
      "53/53 [==============================] - 23s 426ms/step - loss: 2.9232 - accuracy: 0.0954 - val_loss: 2.8995 - val_accuracy: 0.0995\n",
      "Epoch 4/20\n",
      "53/53 [==============================] - ETA: 0s - loss: 2.9081 - accuracy: 0.0989\n",
      "Epoch 00004: saving model to /home/ec2-user/weights/cp.ckpt\n",
      "53/53 [==============================] - 23s 425ms/step - loss: 2.9081 - accuracy: 0.0989 - val_loss: 2.8957 - val_accuracy: 0.0995\n",
      "Epoch 5/20\n",
      "53/53 [==============================] - ETA: 0s - loss: 2.8983 - accuracy: 0.0989\n",
      "Epoch 00005: saving model to /home/ec2-user/weights/cp.ckpt\n",
      "53/53 [==============================] - 23s 425ms/step - loss: 2.8983 - accuracy: 0.0989 - val_loss: 2.8940 - val_accuracy: 0.0995\n",
      "Epoch 6/20\n",
      "53/53 [==============================] - ETA: 0s - loss: 2.9126 - accuracy: 0.0810\n",
      "Epoch 00006: saving model to /home/ec2-user/weights/cp.ckpt\n",
      "53/53 [==============================] - 23s 425ms/step - loss: 2.9126 - accuracy: 0.0810 - val_loss: 2.8921 - val_accuracy: 0.0995\n",
      "Epoch 7/20\n",
      "53/53 [==============================] - ETA: 0s - loss: 2.9338 - accuracy: 0.0954\n",
      "Epoch 00007: saving model to /home/ec2-user/weights/cp.ckpt\n",
      "53/53 [==============================] - 22s 424ms/step - loss: 2.9338 - accuracy: 0.0954 - val_loss: 2.8952 - val_accuracy: 0.0995\n",
      "Epoch 8/20\n",
      "53/53 [==============================] - ETA: 0s - loss: 2.9093 - accuracy: 0.0858\n",
      "Epoch 00008: saving model to /home/ec2-user/weights/cp.ckpt\n",
      "53/53 [==============================] - 22s 423ms/step - loss: 2.9093 - accuracy: 0.0858 - val_loss: 2.8843 - val_accuracy: 0.0995\n",
      "Epoch 9/20\n",
      "53/53 [==============================] - ETA: 0s - loss: 2.9001 - accuracy: 0.0989\n",
      "Epoch 00009: saving model to /home/ec2-user/weights/cp.ckpt\n",
      "53/53 [==============================] - 22s 423ms/step - loss: 2.9001 - accuracy: 0.0989 - val_loss: 2.8828 - val_accuracy: 0.0995\n",
      "Epoch 10/20\n",
      "53/53 [==============================] - ETA: 0s - loss: 2.8981 - accuracy: 0.0989\n",
      "Epoch 00010: saving model to /home/ec2-user/weights/cp.ckpt\n",
      "53/53 [==============================] - 22s 422ms/step - loss: 2.8981 - accuracy: 0.0989 - val_loss: 2.8834 - val_accuracy: 0.0995\n",
      "Epoch 11/20\n",
      "53/53 [==============================] - ETA: 0s - loss: 2.8976 - accuracy: 0.0989\n",
      "Epoch 00011: saving model to /home/ec2-user/weights/cp.ckpt\n",
      "53/53 [==============================] - 22s 423ms/step - loss: 2.8976 - accuracy: 0.0989 - val_loss: 2.8842 - val_accuracy: 0.0995\n",
      "Epoch 12/20\n",
      "53/53 [==============================] - ETA: 0s - loss: 2.9082 - accuracy: 0.1001\n",
      "Epoch 00012: saving model to /home/ec2-user/weights/cp.ckpt\n",
      "53/53 [==============================] - 22s 423ms/step - loss: 2.9082 - accuracy: 0.1001 - val_loss: 2.8916 - val_accuracy: 0.0995\n",
      "Epoch 13/20\n",
      "53/53 [==============================] - ETA: 0s - loss: 2.8896 - accuracy: 0.0989\n",
      "Epoch 00013: saving model to /home/ec2-user/weights/cp.ckpt\n",
      "53/53 [==============================] - 22s 423ms/step - loss: 2.8896 - accuracy: 0.0989 - val_loss: 2.8603 - val_accuracy: 0.0995\n",
      "Epoch 14/20\n",
      "53/53 [==============================] - ETA: 0s - loss: 2.8978 - accuracy: 0.0894\n",
      "Epoch 00014: saving model to /home/ec2-user/weights/cp.ckpt\n",
      "53/53 [==============================] - 22s 424ms/step - loss: 2.8978 - accuracy: 0.0894 - val_loss: 2.8713 - val_accuracy: 0.0995\n",
      "Epoch 15/20\n",
      "53/53 [==============================] - ETA: 0s - loss: 2.9102 - accuracy: 0.0930\n",
      "Epoch 00015: saving model to /home/ec2-user/weights/cp.ckpt\n",
      "53/53 [==============================] - 22s 421ms/step - loss: 2.9102 - accuracy: 0.0930 - val_loss: 2.8932 - val_accuracy: 0.0995\n",
      "Epoch 16/20\n",
      "53/53 [==============================] - ETA: 0s - loss: 2.8958 - accuracy: 0.0989\n",
      "Epoch 00016: saving model to /home/ec2-user/weights/cp.ckpt\n",
      "53/53 [==============================] - 22s 420ms/step - loss: 2.8958 - accuracy: 0.0989 - val_loss: 2.8824 - val_accuracy: 0.0995\n",
      "Epoch 17/20\n",
      "53/53 [==============================] - ETA: 0s - loss: 2.8968 - accuracy: 0.0989\n",
      "Epoch 00017: saving model to /home/ec2-user/weights/cp.ckpt\n",
      "53/53 [==============================] - 22s 419ms/step - loss: 2.8968 - accuracy: 0.0989 - val_loss: 2.8936 - val_accuracy: 0.0995\n",
      "Epoch 18/20\n",
      "53/53 [==============================] - ETA: 0s - loss: 2.9017 - accuracy: 0.0989\n",
      "Epoch 00018: saving model to /home/ec2-user/weights/cp.ckpt\n",
      "53/53 [==============================] - 22s 419ms/step - loss: 2.9017 - accuracy: 0.0989 - val_loss: 2.8784 - val_accuracy: 0.0995\n",
      "Epoch 19/20\n",
      "53/53 [==============================] - ETA: 0s - loss: 2.8905 - accuracy: 0.0989\n",
      "Epoch 00019: saving model to /home/ec2-user/weights/cp.ckpt\n",
      "53/53 [==============================] - 22s 419ms/step - loss: 2.8905 - accuracy: 0.0989 - val_loss: 2.8826 - val_accuracy: 0.0995\n",
      "Epoch 20/20\n",
      "53/53 [==============================] - ETA: 0s - loss: 2.8911 - accuracy: 0.0989\n",
      "Epoch 00020: saving model to /home/ec2-user/weights/cp.ckpt\n",
      "53/53 [==============================] - 22s 419ms/step - loss: 2.8911 - accuracy: 0.0989 - val_loss: 2.8784 - val_accuracy: 0.0995\n"
     ]
    }
   ],
   "source": [
    "# 모델 학습\n",
    "history = model.fit(train_data_gen, epochs=epochs, validation_data=valid_data_gen, callbacks=[cp_callback])"
   ]
  },
  {
   "cell_type": "code",
   "execution_count": 31,
   "metadata": {
    "executionInfo": {
     "elapsed": 313,
     "status": "ok",
     "timestamp": 1634456664195,
     "user": {
      "displayName": "이재선",
      "photoUrl": "https://lh3.googleusercontent.com/a/default-user=s64",
      "userId": "14141060562041994757"
     },
     "user_tz": -540
    },
    "id": "H5BfXBBULIpa"
   },
   "outputs": [],
   "source": [
    "# test 데이터 셋\n",
    "\n",
    "img = load_img('/home/ec2-user/jaesuk.jpg', target_size=(input_size, input_size))\n",
    "img_np = img_to_array(img)\n",
    "img_np = img_np[np.newaxis, ...]\n"
   ]
  },
  {
   "cell_type": "code",
   "execution_count": 32,
   "metadata": {
    "colab": {
     "base_uri": "https://localhost:8080/"
    },
    "executionInfo": {
     "elapsed": 277,
     "status": "ok",
     "timestamp": 1634456666505,
     "user": {
      "displayName": "이재선",
      "photoUrl": "https://lh3.googleusercontent.com/a/default-user=s64",
      "userId": "14141060562041994757"
     },
     "user_tz": -540
    },
    "id": "Z3jPZY2l-g5B",
    "outputId": "624e31cb-c5e8-447d-c270-d3f031df369c"
   },
   "outputs": [
    {
     "data": {
      "text/plain": [
       "(1, 224, 224, 3)"
      ]
     },
     "execution_count": 32,
     "metadata": {},
     "output_type": "execute_result"
    }
   ],
   "source": [
    "# Keras VGG16 모델에서 했던 전처리 방식을 적용\n",
    "img_tensor = applications.vgg16.preprocess_input(img_np) \n",
    "img_tensor.shape"
   ]
  },
  {
   "cell_type": "code",
   "execution_count": 33,
   "metadata": {
    "colab": {
     "base_uri": "https://localhost:8080/"
    },
    "executionInfo": {
     "elapsed": 642,
     "status": "ok",
     "timestamp": 1634456669455,
     "user": {
      "displayName": "이재선",
      "photoUrl": "https://lh3.googleusercontent.com/a/default-user=s64",
      "userId": "14141060562041994757"
     },
     "user_tz": -540
    },
    "id": "0MasofPL-_xc",
    "outputId": "21953072-0ba2-40c9-ea38-190ac6ba797d"
   },
   "outputs": [],
   "source": [
    "pred = model.predict(img_tensor)"
   ]
  },
  {
   "cell_type": "code",
   "execution_count": 34,
   "metadata": {
    "colab": {
     "base_uri": "https://localhost:8080/"
    },
    "executionInfo": {
     "elapsed": 252,
     "status": "ok",
     "timestamp": 1634456672036,
     "user": {
      "displayName": "이재선",
      "photoUrl": "https://lh3.googleusercontent.com/a/default-user=s64",
      "userId": "14141060562041994757"
     },
     "user_tz": -540
    },
    "id": "bmh1x-0P_QVP",
    "outputId": "de472f12-d310-4a19-c59b-cf2cb71fbad1"
   },
   "outputs": [
    {
     "data": {
      "text/plain": [
       "array([[2.63840934e-06, 4.49768326e-04, 8.01756699e-03, 6.19033992e-04,\n",
       "        9.41848218e-01, 4.46279086e-02, 2.66253861e-04, 1.13907117e-06,\n",
       "        5.08122355e-07, 2.70956225e-05, 1.38693414e-11, 3.16540129e-04,\n",
       "        4.13368326e-08, 5.82713801e-06, 1.40545972e-05, 1.82258417e-10,\n",
       "        1.57485530e-07, 3.80281475e-03, 2.73950718e-07]], dtype=float32)"
      ]
     },
     "execution_count": 34,
     "metadata": {},
     "output_type": "execute_result"
    }
   ],
   "source": [
    "pred"
   ]
  },
  {
   "cell_type": "code",
   "execution_count": 35,
   "metadata": {
    "colab": {
     "base_uri": "https://localhost:8080/"
    },
    "executionInfo": {
     "elapsed": 243,
     "status": "ok",
     "timestamp": 1634456679222,
     "user": {
      "displayName": "이재선",
      "photoUrl": "https://lh3.googleusercontent.com/a/default-user=s64",
      "userId": "14141060562041994757"
     },
     "user_tz": -540
    },
    "id": "ZwPWQlYX_Rb1",
    "outputId": "618d89e8-49b8-46b7-ff96-028a7d3334e0"
   },
   "outputs": [
    {
     "data": {
      "text/plain": [
       "array([4])"
      ]
     },
     "execution_count": 35,
     "metadata": {},
     "output_type": "execute_result"
    }
   ],
   "source": [
    "pred_label = np.argmax(pred, axis=1)\n",
    "pred_label"
   ]
  },
  {
   "cell_type": "code",
   "execution_count": 37,
   "metadata": {
    "colab": {
     "base_uri": "https://localhost:8080/"
    },
    "executionInfo": {
     "elapsed": 255,
     "status": "ok",
     "timestamp": 1634456690949,
     "user": {
      "displayName": "이재선",
      "photoUrl": "https://lh3.googleusercontent.com/a/default-user=s64",
      "userId": "14141060562041994757"
     },
     "user_tz": -540
    },
    "id": "UFojGue8_Z3v",
    "outputId": "0412a268-2170-4c15-c928-7269f95e56fa"
   },
   "outputs": [
    {
     "data": {
      "text/plain": [
       "array([[0, 0, 0, 0, 1, 0, 0, 0, 0, 0, 0, 0, 0, 0, 0, 0, 0, 0, 0]])"
      ]
     },
     "execution_count": 37,
     "metadata": {},
     "output_type": "execute_result"
    }
   ],
   "source": [
    "pred_label1 = np.where(pred > 0.5, 1, 0)\n",
    "pred_label1"
   ]
  },
  {
   "cell_type": "code",
   "execution_count": 38,
   "metadata": {
    "colab": {
     "base_uri": "https://localhost:8080/"
    },
    "executionInfo": {
     "elapsed": 242,
     "status": "ok",
     "timestamp": 1634456719424,
     "user": {
      "displayName": "이재선",
      "photoUrl": "https://lh3.googleusercontent.com/a/default-user=s64",
      "userId": "14141060562041994757"
     },
     "user_tz": -540
    },
    "id": "wTkQXtMH_kSf",
    "outputId": "4fc252d0-ac31-4111-b708-25cc4fdc5190"
   },
   "outputs": [
    {
     "name": "stdout",
     "output_type": "stream",
     "text": [
      "[4]\n"
     ]
    },
    {
     "data": {
      "text/plain": [
       "({'JungHae-in': 0,\n",
       "  'Jungwoosung': 1,\n",
       "  'Lee_Jung-jae': 2,\n",
       "  'Seojin_Lee': 3,\n",
       "  'Song_gang_ho': 4,\n",
       "  'Song_joong_Gi': 5,\n",
       "  'Yoo_Jae_Suk': 6,\n",
       "  'baedoona': 7,\n",
       "  'hansohee': 8,\n",
       "  'kimtaehee': 9,\n",
       "  'kimyeonkyoung': 10,\n",
       "  'kimyuna': 11,\n",
       "  'leejiah': 12,\n",
       "  'leesungkyoung': 13,\n",
       "  'parkseojoon': 14,\n",
       "  'parksodam': 15,\n",
       "  'songhyekyo': 16,\n",
       "  'won_bin': 17,\n",
       "  'younyuhjung': 18},)"
      ]
     },
     "execution_count": 38,
     "metadata": {},
     "output_type": "execute_result"
    }
   ],
   "source": [
    "print( pred_label)\n",
    "valid_data_gen.class_indices,"
   ]
  },
  {
   "cell_type": "code",
   "execution_count": 60,
   "metadata": {
    "executionInfo": {
     "elapsed": 259,
     "status": "ok",
     "timestamp": 1634454610869,
     "user": {
      "displayName": "이재선",
      "photoUrl": "https://lh3.googleusercontent.com/a/default-user=s64",
      "userId": "14141060562041994757"
     },
     "user_tz": -540
    },
    "id": "H7drhh-FB3oG"
   },
   "outputs": [],
   "source": []
  },
  {
   "cell_type": "code",
   "execution_count": 60,
   "metadata": {
    "executionInfo": {
     "elapsed": 291,
     "status": "ok",
     "timestamp": 1634454615428,
     "user": {
      "displayName": "이재선",
      "photoUrl": "https://lh3.googleusercontent.com/a/default-user=s64",
      "userId": "14141060562041994757"
     },
     "user_tz": -540
    },
    "id": "Xrjc1lm6CDwz"
   },
   "outputs": [],
   "source": []
  },
  {
   "cell_type": "code",
   "execution_count": 110,
   "metadata": {
    "executionInfo": {
     "elapsed": 686,
     "status": "ok",
     "timestamp": 1634456728512,
     "user": {
      "displayName": "이재선",
      "photoUrl": "https://lh3.googleusercontent.com/a/default-user=s64",
      "userId": "14141060562041994757"
     },
     "user_tz": -540
    },
    "id": "5Ju_y07LDGkt"
   },
   "outputs": [],
   "source": [
    "new_model = VGG16(input_shape=(224,224,3), weights='imagenet', include_top=False)"
   ]
  },
  {
   "cell_type": "code",
   "execution_count": 111,
   "metadata": {
    "executionInfo": {
     "elapsed": 317,
     "status": "ok",
     "timestamp": 1634456730599,
     "user": {
      "displayName": "이재선",
      "photoUrl": "https://lh3.googleusercontent.com/a/default-user=s64",
      "userId": "14141060562041994757"
     },
     "user_tz": -540
    },
    "id": "H_C4HdHNCTkD"
   },
   "outputs": [],
   "source": [
    "vgg_model.trainable=True\n",
    "global_average_layer = tf.keras.layers.GlobalAveragePooling2D()\n",
    "\n",
    "new_model = tf.keras.Sequential([\n",
    "    vgg_model,\n",
    "    global_average_layer,\n",
    "    layers.Dense(19, activation='softmax'),\n",
    "\n",
    "])"
   ]
  },
  {
   "cell_type": "code",
   "execution_count": 112,
   "metadata": {
    "executionInfo": {
     "elapsed": 287,
     "status": "ok",
     "timestamp": 1634456732613,
     "user": {
      "displayName": "이재선",
      "photoUrl": "https://lh3.googleusercontent.com/a/default-user=s64",
      "userId": "14141060562041994757"
     },
     "user_tz": -540
    },
    "id": "7qlfWUq4Daak"
   },
   "outputs": [],
   "source": [
    "new_model.compile(loss='categorical_crossentropy',\n",
    "                     optimizer='adam',\n",
    "                     metrics=['accuracy'])"
   ]
  },
  {
   "cell_type": "code",
   "execution_count": 113,
   "metadata": {
    "executionInfo": {
     "elapsed": 366,
     "status": "ok",
     "timestamp": 1634456735086,
     "user": {
      "displayName": "이재선",
      "photoUrl": "https://lh3.googleusercontent.com/a/default-user=s64",
      "userId": "14141060562041994757"
     },
     "user_tz": -540
    },
    "id": "21m_IMdUEP4x"
   },
   "outputs": [],
   "source": [
    "weights_path = \"/content/drive/MyDrive/crime_project/weights\"\n",
    "weights_file_path = os.path.join(weights_path, \"cp.ckpt\")\n"
   ]
  },
  {
   "cell_type": "code",
   "execution_count": 114,
   "metadata": {
    "colab": {
     "base_uri": "https://localhost:8080/"
    },
    "executionInfo": {
     "elapsed": 975,
     "status": "ok",
     "timestamp": 1634456737205,
     "user": {
      "displayName": "이재선",
      "photoUrl": "https://lh3.googleusercontent.com/a/default-user=s64",
      "userId": "14141060562041994757"
     },
     "user_tz": -540
    },
    "id": "XHF2Pl43DfIH",
    "outputId": "ee6ab82c-2375-45d1-d4a4-96d19d7e81fe"
   },
   "outputs": [
    {
     "data": {
      "text/plain": [
       "<tensorflow.python.training.tracking.util.CheckpointLoadStatus at 0x7f3919df2b10>"
      ]
     },
     "execution_count": 114,
     "metadata": {},
     "output_type": "execute_result"
    }
   ],
   "source": [
    "new_model.load_weights(weights_file_path)"
   ]
  },
  {
   "cell_type": "code",
   "execution_count": 115,
   "metadata": {
    "colab": {
     "base_uri": "https://localhost:8080/"
    },
    "executionInfo": {
     "elapsed": 676,
     "status": "ok",
     "timestamp": 1634456741941,
     "user": {
      "displayName": "이재선",
      "photoUrl": "https://lh3.googleusercontent.com/a/default-user=s64",
      "userId": "14141060562041994757"
     },
     "user_tz": -540
    },
    "id": "-p0zFSzUEUVN",
    "outputId": "fc856aaa-d6b7-4bf4-bc3e-b64508fa61c4"
   },
   "outputs": [
    {
     "name": "stdout",
     "output_type": "stream",
     "text": [
      "WARNING:tensorflow:6 out of the last 9 calls to <function Model.make_predict_function.<locals>.predict_function at 0x7f391c052710> triggered tf.function retracing. Tracing is expensive and the excessive number of tracings could be due to (1) creating @tf.function repeatedly in a loop, (2) passing tensors with different shapes, (3) passing Python objects instead of tensors. For (1), please define your @tf.function outside of the loop. For (2), @tf.function has experimental_relax_shapes=True option that relaxes argument shapes that can avoid unnecessary retracing. For (3), please refer to https://www.tensorflow.org/guide/function#controlling_retracing and https://www.tensorflow.org/api_docs/python/tf/function for  more details.\n"
     ]
    },
    {
     "name": "stderr",
     "output_type": "stream",
     "text": [
      "WARNING:tensorflow:6 out of the last 9 calls to <function Model.make_predict_function.<locals>.predict_function at 0x7f391c052710> triggered tf.function retracing. Tracing is expensive and the excessive number of tracings could be due to (1) creating @tf.function repeatedly in a loop, (2) passing tensors with different shapes, (3) passing Python objects instead of tensors. For (1), please define your @tf.function outside of the loop. For (2), @tf.function has experimental_relax_shapes=True option that relaxes argument shapes that can avoid unnecessary retracing. For (3), please refer to https://www.tensorflow.org/guide/function#controlling_retracing and https://www.tensorflow.org/api_docs/python/tf/function for  more details.\n"
     ]
    },
    {
     "data": {
      "text/plain": [
       "array([[1.03670184e-10, 4.53466855e-05, 3.76508832e-01, 2.12066844e-02,\n",
       "        1.64957037e-05, 7.38900229e-02, 5.70175564e-03, 6.57197106e-08,\n",
       "        2.01494157e-01, 8.82752836e-02, 2.94074964e-09, 3.10313189e-05,\n",
       "        2.22430909e-08, 1.04333833e-06, 1.38426376e-05, 4.47008356e-14,\n",
       "        2.32600987e-01, 2.14443673e-04, 1.02289271e-12]], dtype=float32)"
      ]
     },
     "execution_count": 115,
     "metadata": {},
     "output_type": "execute_result"
    }
   ],
   "source": [
    "new_pred = new_model.predict(img_tensor)\n",
    "new_pred"
   ]
  },
  {
   "cell_type": "code",
   "execution_count": 117,
   "metadata": {
    "colab": {
     "base_uri": "https://localhost:8080/"
    },
    "executionInfo": {
     "elapsed": 314,
     "status": "ok",
     "timestamp": 1634456752126,
     "user": {
      "displayName": "이재선",
      "photoUrl": "https://lh3.googleusercontent.com/a/default-user=s64",
      "userId": "14141060562041994757"
     },
     "user_tz": -540
    },
    "id": "GhjNePzJGv7J",
    "outputId": "a617758b-72c3-4926-b576-e6a42c4e82ca"
   },
   "outputs": [
    {
     "data": {
      "text/plain": [
       "array([2])"
      ]
     },
     "execution_count": 117,
     "metadata": {},
     "output_type": "execute_result"
    }
   ],
   "source": [
    "new_pred_label = np.argmax(pred, axis=1)\n",
    "new_pred_label"
   ]
  },
  {
   "cell_type": "code",
   "execution_count": 119,
   "metadata": {
    "colab": {
     "base_uri": "https://localhost:8080/"
    },
    "executionInfo": {
     "elapsed": 249,
     "status": "ok",
     "timestamp": 1634456778653,
     "user": {
      "displayName": "이재선",
      "photoUrl": "https://lh3.googleusercontent.com/a/default-user=s64",
      "userId": "14141060562041994757"
     },
     "user_tz": -540
    },
    "id": "LyK0Z1uKNs08",
    "outputId": "f800fb4b-39a2-41d4-8674-8561193dc696"
   },
   "outputs": [
    {
     "data": {
      "text/plain": [
       "array([[0, 0, 0, 0, 0, 0, 0, 0, 0, 0, 0, 0, 0, 0, 0, 0, 0, 0, 0]])"
      ]
     },
     "execution_count": 119,
     "metadata": {},
     "output_type": "execute_result"
    }
   ],
   "source": [
    "new_pred_labl1 = np.where(pred > 0.5, 1, 0)\n",
    "new_pred_labl1"
   ]
  },
  {
   "cell_type": "code",
   "execution_count": 78,
   "metadata": {
    "colab": {
     "base_uri": "https://localhost:8080/"
    },
    "executionInfo": {
     "elapsed": 267,
     "status": "ok",
     "timestamp": 1634455232540,
     "user": {
      "displayName": "이재선",
      "photoUrl": "https://lh3.googleusercontent.com/a/default-user=s64",
      "userId": "14141060562041994757"
     },
     "user_tz": -540
    },
    "id": "pQIPVdMVH15C",
    "outputId": "b714dee5-dbf9-40e2-a70a-0205d21f7a02"
   },
   "outputs": [
    {
     "data": {
      "text/plain": [
       "{'JungHae-in': 0,\n",
       " 'Jungwoosung': 1,\n",
       " 'Lee_Jung-jae': 2,\n",
       " 'Seojin_Lee': 3,\n",
       " 'Song_gang_ho': 4,\n",
       " 'Song_joong_Gi': 5,\n",
       " 'Yoo_Jae_Suk': 6,\n",
       " 'baedoona': 7,\n",
       " 'hansohee': 8,\n",
       " 'kimtaehee': 9,\n",
       " 'kimyeonkyoung': 10,\n",
       " 'kimyuna': 11,\n",
       " 'leejiah': 12,\n",
       " 'leesungkyoung': 13,\n",
       " 'parkseojoon': 14,\n",
       " 'parksodam': 15,\n",
       " 'songhyekyo': 16,\n",
       " 'won_bin': 17,\n",
       " 'younyuhjung': 18}"
      ]
     },
     "execution_count": 78,
     "metadata": {},
     "output_type": "execute_result"
    }
   ],
   "source": [
    "valid_data_gen.class_indices\n"
   ]
  },
  {
   "cell_type": "code",
   "execution_count": 120,
   "metadata": {
    "colab": {
     "base_uri": "https://localhost:8080/"
    },
    "executionInfo": {
     "elapsed": 249,
     "status": "ok",
     "timestamp": 1634456792628,
     "user": {
      "displayName": "이재선",
      "photoUrl": "https://lh3.googleusercontent.com/a/default-user=s64",
      "userId": "14141060562041994757"
     },
     "user_tz": -540
    },
    "id": "oX5zz1XZH5pW",
    "outputId": "0688c7f6-0ff7-49be-d0fc-5466eec25b1e"
   },
   "outputs": [
    {
     "data": {
      "text/plain": [
       "array([[ True,  True,  True,  True,  True,  True,  True,  True,  True,\n",
       "         True,  True,  True,  True,  True,  True,  True,  True,  True,\n",
       "         True]])"
      ]
     },
     "execution_count": 120,
     "metadata": {},
     "output_type": "execute_result"
    }
   ],
   "source": [
    "new_pred == pred"
   ]
  },
  {
   "cell_type": "code",
   "execution_count": 88,
   "metadata": {
    "executionInfo": {
     "elapsed": 5,
     "status": "ok",
     "timestamp": 1634456132666,
     "user": {
      "displayName": "이재선",
      "photoUrl": "https://lh3.googleusercontent.com/a/default-user=s64",
      "userId": "14141060562041994757"
     },
     "user_tz": -540
    },
    "id": "y5pBqZIaIHEC"
   },
   "outputs": [],
   "source": []
  },
  {
   "cell_type": "code",
   "execution_count": 88,
   "metadata": {
    "executionInfo": {
     "elapsed": 270,
     "status": "ok",
     "timestamp": 1634456127361,
     "user": {
      "displayName": "이재선",
      "photoUrl": "https://lh3.googleusercontent.com/a/default-user=s64",
      "userId": "14141060562041994757"
     },
     "user_tz": -540
    },
    "id": "wffatpGRITpW"
   },
   "outputs": [],
   "source": []
  },
  {
   "cell_type": "code",
   "execution_count": 88,
   "metadata": {
    "executionInfo": {
     "elapsed": 286,
     "status": "ok",
     "timestamp": 1634456122184,
     "user": {
      "displayName": "이재선",
      "photoUrl": "https://lh3.googleusercontent.com/a/default-user=s64",
      "userId": "14141060562041994757"
     },
     "user_tz": -540
    },
    "id": "-vpPX9ntJXNG"
   },
   "outputs": [],
   "source": [
    "\n"
   ]
  },
  {
   "cell_type": "code",
   "execution_count": null,
   "metadata": {
    "id": "I0rSp3tDJnyx"
   },
   "outputs": [],
   "source": []
  }
 ],
 "metadata": {
  "accelerator": "GPU",
  "colab": {
   "authorship_tag": "ABX9TyPKSUkispm+7mXasllW4cTK",
   "collapsed_sections": [],
   "mount_file_id": "1gNOvSC2Z_D-ZwzPisO6VXkr-MP-OtkEN",
   "name": "Jaeseon.ipynb",
   "provenance": []
  },
  "kernelspec": {
   "display_name": "Environment (conda_tensorflow2_p37)",
   "language": "python",
   "name": "conda_tensorflow2_p37"
  },
  "language_info": {
   "codemirror_mode": {
    "name": "ipython",
    "version": 3
   },
   "file_extension": ".py",
   "mimetype": "text/x-python",
   "name": "python",
   "nbconvert_exporter": "python",
   "pygments_lexer": "ipython3",
   "version": "3.7.10"
  }
 },
 "nbformat": 4,
 "nbformat_minor": 4
}
